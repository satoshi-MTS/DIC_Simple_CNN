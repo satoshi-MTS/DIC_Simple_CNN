{
 "cells": [
  {
   "cell_type": "markdown",
   "id": "2876cdce-8c28-44d6-9a22-992b2c15758f",
   "metadata": {},
   "source": [
    "# 事前準備"
   ]
  },
  {
   "cell_type": "code",
   "execution_count": 1,
   "id": "db6a83ec-291d-4771-a878-eae6e9ff8a62",
   "metadata": {},
   "outputs": [],
   "source": [
    "import numpy as np\n",
    "import matplotlib.pyplot as plt\n",
    "from keras.datasets import mnist\n",
    "from sklearn.model_selection import train_test_split\n",
    "from sklearn.preprocessing import OneHotEncoder"
   ]
  },
  {
   "cell_type": "code",
   "execution_count": 2,
   "id": "b6a53251-1f8d-43c5-bd52-0923a89d49b8",
   "metadata": {},
   "outputs": [],
   "source": [
    "# 読み込み\n",
    "(X_train, y_train), (X_test, y_test) = mnist.load_data()\n",
    "\n",
    "# 画像データ→行データ\n",
    "X_train = X_train.reshape(-1, 784)\n",
    "X_test = X_test.reshape(-1, 784)\n",
    "\n",
    "# 正規化\n",
    "X_train = X_train.astype(float)\n",
    "X_test = X_test.astype(float)\n",
    "X_train /= 255\n",
    "X_test /= 255\n",
    "\n",
    "# one-hotベクトル化\n",
    "enc = OneHotEncoder(handle_unknown='ignore', sparse=False)\n",
    "y_train_one_hot = enc.fit_transform(y_train[:, np.newaxis])\n",
    "y_test_one_hot = enc.transform(y_test[:, np.newaxis])\n",
    "\n",
    "# one-hotのデータ分割\n",
    "X_train, X_val, y_train_one_hot, y_val_one_hot = train_test_split(X_train, y_train_one_hot, stratify=y_train_one_hot, test_size=0.2, random_state=0)"
   ]
  },
  {
   "cell_type": "markdown",
   "id": "43f16f01-4dd9-4ab3-9225-7b696f70d433",
   "metadata": {},
   "source": [
    "# 【問題1】チャンネル数を1に限定した1次元畳み込み層クラスの作成\n",
    "チャンネル数を1に限定した1次元畳み込み層のクラスSimpleConv1dを作成してください。基本構造は前のSprintで作成した全結合層のFCクラスと同じになります。なお、重みの初期化に関するクラスは必要に応じて作り変えてください。Xavierの初期値などを使う点は全結合層と同様です。\n",
    "\n",
    "\n",
    "ここでは パディング は考えず、ストライド も1に固定します。また、複数のデータを同時に処理することも考えなくて良く、バッチサイズは1のみに対応してください。この部分の拡張はアドバンス課題とします。\n",
    "\n",
    "\n",
    "フォワードプロパゲーションの数式は以下のようになります。\n",
    "\n",
    "\n",
    "$$a_i = \\sum_{s=0}^{F-1}x_{(i+s)}w_s+b$$\n",
    "$a_i$ : 出力される配列のi番目の値\n",
    "\n",
    "\n",
    "$F$ : フィルタのサイズ\n",
    "\n",
    "\n",
    "$x_{(i+s)}$ : 入力の配列の(i+s)番目の値\n",
    "\n",
    "\n",
    "$w_s$ : 重みの配列のs番目の値\n",
    "\n",
    "\n",
    "$b$ : バイアス項\n",
    "\n",
    "\n",
    "すべてスカラーです。\n",
    "\n",
    "\n",
    "次に更新式です。ここがAdaGradなどに置き換えられる点は全結合層と同様です。\n",
    "\n",
    "\n",
    "$$w_s^{\\prime} = w_s - \\alpha \\frac{\\partial L}{\\partial w_s} \\\\ b^{\\prime} = b - \\alpha \\frac{\\partial L}{\\partial b}$$\n",
    "$\\alpha$ : 学習率\n",
    "\n",
    "\n",
    "$\\frac{\\partial L}{\\partial w_s}$ : $w_s$ に関する損失 $L$ の勾配\n",
    "\n",
    "\n",
    "$\\frac{\\partial L}{\\partial b}$ : $b$ に関する損失 $L$ の勾配\n",
    "\n",
    "\n",
    "勾配 $\\frac{\\partial L}{\\partial w_s}$ や $\\frac{\\partial L}{\\partial b}$ を求めるためのバックプロパゲーションの数式が以下です。\n",
    "\n",
    "\n",
    "$$\\frac{\\partial L}{\\partial w_s} = \\sum_{i=0}^{N_{out}-1} \\frac{\\partial L}{\\partial a_i}x_{(i+s)}\\\\ \\frac{\\partial L}{\\partial b} = \\sum_{i=0}^{N_{out}-1} \\frac{\\partial L}{\\partial a_i}$$\n",
    "$\\frac{\\partial L}{\\partial a_i}$ : 勾配の配列のi番目の値\n",
    "\n",
    "\n",
    "$N_{out}$ : 出力のサイズ\n",
    "\n",
    "\n",
    "前の層に流す誤差の数式は以下です。\n",
    "\n",
    "\n",
    "$$\\frac{\\partial L}{\\partial x_j} = \\sum_{s=0}^{F-1} \\frac{\\partial L}{\\partial a_{(j-s)}}w_s$$\n",
    "$\\frac{\\partial L}{\\partial x_j}$ : 前の層に流す誤差の配列のj番目の値\n",
    "\n",
    "\n",
    "ただし、 $j-s<0$ または $j-s>N_{out}-1$ のとき $\\frac{\\partial L}{\\partial a_{(j-s)}} =0$ です。\n",
    "\n",
    "\n",
    "全結合層との大きな違いは、重みが複数の特徴量に対して共有されていることです。この場合は共有されている分の誤差をすべて足すことで勾配を求めます。計算グラフ上での分岐はバックプロパゲーションの際に誤差の足し算をすれば良いことになります。\n",
    "## SimpleConv1dSimpleConv1d"
   ]
  },
  {
   "cell_type": "markdown",
   "id": "a79ed859-4e07-4fa7-9a7f-3e15b210b106",
   "metadata": {},
   "source": [
    "# 【問題2】1次元畳み込み後の出力サイズの計算\n",
    "畳み込みを行うと特徴量の数が変化します。どのように変化するかは以下の数式から求められます。パディングやストライドも含めています。この計算を行う関数を作成してください。\n",
    "\n",
    "$$N_{out} =  \\frac{N_{in}+2P-F}{S} + 1$$\n",
    "\n",
    "$N_{out}$ : 出力のサイズ（特徴量の数）\n",
    "\n",
    "\n",
    "$N_{in}$ : 入力のサイズ（特徴量の数）\n",
    "\n",
    "\n",
    "$P$ : ある方向へのパディングの数\n",
    "\n",
    "\n",
    "$F$ : フィルタのサイズ\n",
    "\n",
    "\n",
    "$S$ : ストライドのサイズ"
   ]
  },
  {
   "cell_type": "code",
   "execution_count": 3,
   "id": "6549e8d1-5f0e-428f-9d64-8804f6401154",
   "metadata": {},
   "outputs": [],
   "source": [
    "def get_N_out(N_in, F_size, pading=0, storaid=1):\n",
    "    \"\"\"\n",
    "    畳み込みを行った後の特徴量の数\n",
    "    \"\"\"\n",
    "    \n",
    "    # npではないのでpython組み込み関数を使用\n",
    "    N_out = int((N_in + 2 * pading - F_size) / storaid + 1)\n",
    "    \n",
    "    return N_out"
   ]
  },
  {
   "cell_type": "markdown",
   "id": "0f561337-3829-4a46-84d5-16a050f59c60",
   "metadata": {},
   "source": [
    "# 【問題3】小さな配列での1次元畳み込み層の実験\n",
    "次に示す小さな配列でフォワードプロパゲーションとバックプロパゲーションが正しく行えているか確認してください。"
   ]
  },
  {
   "cell_type": "code",
   "execution_count": 4,
   "id": "417b07dd-f020-4f6b-91bb-97f83fbc3aa5",
   "metadata": {},
   "outputs": [],
   "source": [
    "x = np.array([1,2,3,4])\n",
    "w = np.array([3, 5, 7])\n",
    "b = np.array([1])"
   ]
  },
  {
   "cell_type": "code",
   "execution_count": 5,
   "id": "b4b7b371-7ec7-4131-9fa8-3ea49fdd62ee",
   "metadata": {},
   "outputs": [
    {
     "data": {
      "text/plain": [
       "array([0., 0.])"
      ]
     },
     "execution_count": 5,
     "metadata": {},
     "output_type": "execute_result"
    }
   ],
   "source": [
    "# 出力サイズの確認\n",
    "a = np.zeros(get_N_out(x.shape[0], w.shape[0]))\n",
    "a"
   ]
  },
  {
   "cell_type": "code",
   "execution_count": 6,
   "id": "10b43f08-2795-4e3f-a2b9-be13f0c8bc54",
   "metadata": {},
   "outputs": [
    {
     "data": {
      "text/plain": [
       "array([35, 50])"
      ]
     },
     "execution_count": 6,
     "metadata": {},
     "output_type": "execute_result"
    }
   ],
   "source": [
    "# aの値を更新\n",
    "for i in range(a.shape[0]):\n",
    "    a[i] = int(x[i: i + w.shape[0]] @ w + b)\n",
    "    \n",
    "a.astype(int)"
   ]
  },
  {
   "cell_type": "code",
   "execution_count": 37,
   "id": "68ebe708-f774-4005-b819-8664623ed732",
   "metadata": {},
   "outputs": [],
   "source": [
    "def forward(x, w, b):\n",
    "    \"\"\"順伝播\n",
    "    Parameters\n",
    "    -----------\n",
    "    x : 入力配列\n",
    "    w : 重み\n",
    "    b : バイアス\n",
    "    \"\"\"\n",
    "    # 返り値入力配列\n",
    "    a = []\n",
    "    # 1づつずらしながら畳み込み計算\n",
    "    for i in range(len(w) - 1):\n",
    "        a.append((x[i:i+len(w)] @ w) + b[0])\n",
    "\n",
    "    return np.array(a)"
   ]
  },
  {
   "cell_type": "code",
   "execution_count": 39,
   "id": "e139a858-6497-4b95-a9b0-691cc798afd8",
   "metadata": {},
   "outputs": [
    {
     "data": {
      "text/plain": [
       "array([35, 50])"
      ]
     },
     "execution_count": 28,
     "metadata": {},
     "output_type": "execute_result"
    }
   ],
   "source": [
    "x = np.array([1,2,3,4])\n",
    "w = np.array([3, 5, 7])\n",
    "b = np.array([1])\n",
    "forward(x, w, b)"
   ]
  },
  {
   "cell_type": "code",
   "execution_count": null,
   "id": "246c76e9-6f41-43bb-9074-6665cdabfaf4",
   "metadata": {},
   "outputs": [],
   "source": []
  },
  {
   "cell_type": "code",
   "execution_count": 7,
   "id": "4405af77-bca7-406b-a918-35a6537fab83",
   "metadata": {},
   "outputs": [],
   "source": [
    "delta_a = np.array([10, 20])\n",
    "dW = np.zeros_like(w).astype(int)\n",
    "dB = np.zeros_like(b).astype(int)"
   ]
  },
  {
   "cell_type": "markdown",
   "id": "c3bffda3-55ee-4ac2-8329-048de0919976",
   "metadata": {},
   "source": [
    "![Imgur](https://i.imgur.com/QoMNGU3l.jpg)"
   ]
  },
  {
   "cell_type": "code",
   "execution_count": 8,
   "id": "617af1b3-f386-4681-9ca6-956ccc59c5c4",
   "metadata": {},
   "outputs": [],
   "source": [
    "# 初期化\n",
    "dW = np.zeros_like(w).astype(int)\n",
    "dB = np.zeros_like(b).astype(int)\n",
    "\n",
    "# 誤差の計算\n",
    "for i in range(a.shape[0]):\n",
    "    dW += delta_a[i] * x[i : i+w.shape[0]]\n",
    "    dB += delta_a[i]"
   ]
  },
  {
   "cell_type": "code",
   "execution_count": 9,
   "id": "bb061e53-98e4-420f-9e03-d8391a0d1b9f",
   "metadata": {},
   "outputs": [
    {
     "data": {
      "text/plain": [
       "array([ 50,  80, 110])"
      ]
     },
     "execution_count": 9,
     "metadata": {},
     "output_type": "execute_result"
    }
   ],
   "source": [
    "dW"
   ]
  },
  {
   "cell_type": "code",
   "execution_count": null,
   "id": "47657fd5-5cee-4135-b41e-c3b942b0b798",
   "metadata": {},
   "outputs": [],
   "source": []
  },
  {
   "cell_type": "markdown",
   "id": "4c115f7e-c824-4a99-ae41-bcc3afe7bb34",
   "metadata": {},
   "source": [
    "# backword"
   ]
  },
  {
   "cell_type": "markdown",
   "id": "c11a9d7c-bf94-4a17-8b70-1319a088839c",
   "metadata": {},
   "source": [
    "![Imgur](https://i.imgur.com/SICodEJl.jpg)"
   ]
  },
  {
   "cell_type": "code",
   "execution_count": 10,
   "id": "103317a6-caea-4814-bfb0-acc6c9153a3a",
   "metadata": {},
   "outputs": [],
   "source": [
    "# 初期化\n",
    "dX = np.zeros_like(x)\n",
    "\n",
    "# 誤差の計算\n",
    "for i in range(dX.shape[0]):\n",
    "    for s in range(w.shape[0]):\n",
    "        # 入力の枠外の微分は0とする\n",
    "        if (i-s < 0) or (i-s > delta_a.shape[0]-1):\n",
    "            pass\n",
    "        # 枠内の微分値は足し合わせる\n",
    "        else:\n",
    "            dX[i] += delta_a[i-s] * w[s]"
   ]
  },
  {
   "cell_type": "code",
   "execution_count": 11,
   "id": "cbd350cb-ecb5-4701-9b3e-ebccb901b832",
   "metadata": {},
   "outputs": [
    {
     "data": {
      "text/plain": [
       "array([ 30, 110, 170, 140])"
      ]
     },
     "execution_count": 11,
     "metadata": {},
     "output_type": "execute_result"
    }
   ],
   "source": [
    "dX"
   ]
  },
  {
   "cell_type": "code",
   "execution_count": 49,
   "id": "7330c4ce-51f5-4642-92bd-42ee8841c592",
   "metadata": {},
   "outputs": [
    {
     "data": {
      "text/plain": [
       "array([ 30, 110, 170, 140])"
      ]
     },
     "execution_count": 31,
     "metadata": {},
     "output_type": "execute_result"
    }
   ],
   "source": [
    "# 逆伝播の値\n",
    "dx = []\n",
    "# 逆畳込み計算用配列\n",
    "# 0を0番目(先頭)に配置\n",
    "new_w = np.insert(w[::-1], 0, 0)\n",
    "# 0を最後に配置\n",
    "new_w = np.append(new_w, 0)\n",
    "\n",
    "for i in range(len(new_w)-1):\n",
    "    dx.append(new_w[i:i+len(delta_a)] @ delta_a)\n",
    "dx = np.array(dx[::-1])\n",
    "dx"
   ]
  },
  {
   "cell_type": "code",
   "execution_count": 63,
   "id": "adda8a01-2b9f-4e85-bbbd-372fc0e12430",
   "metadata": {},
   "outputs": [
    {
     "data": {
      "text/plain": [
       "array([7, 5, 3])"
      ]
     },
     "execution_count": 38,
     "metadata": {},
     "output_type": "execute_result"
    }
   ],
   "source": [
    "# 逆転する\n",
    "w[::-1]"
   ]
  },
  {
   "cell_type": "code",
   "execution_count": 55,
   "id": "80a266dc-5d93-4217-89c4-932ddb2d356d",
   "metadata": {},
   "outputs": [
    {
     "data": {
      "text/plain": [
       "array([0, 7, 5, 3, 0])"
      ]
     },
     "execution_count": 34,
     "metadata": {},
     "output_type": "execute_result"
    }
   ],
   "source": [
    "new_w"
   ]
  },
  {
   "cell_type": "code",
   "execution_count": 117,
   "id": "6248ecc3-156e-4365-928b-27798b9ce8de",
   "metadata": {},
   "outputs": [],
   "source": [
    "def forward(X, W, b):\n",
    "    \"\"\"\n",
    "    順伝播\n",
    "\n",
    "    param\n",
    "    --------------\n",
    "    self.X : ndarray (n_features, )\n",
    "    入力サイズ\n",
    "    \"\"\"\n",
    "\n",
    "    # 形を作成(出力チャンネル、　出力ノード)\n",
    "    A = np.zeros((3, 2))\n",
    "    # Aの行を指定\n",
    "    for i in range(A.shape[0]):\n",
    "        # Aの列を指定\n",
    "        for j in range(A.shape[1]):\n",
    "            # Xのチャンネルを指定\n",
    "            for k in range(X.shape[0]):\n",
    "                # Xの形をWが存在するところまでに切り取る(Wにゼロを追加するのと同義)\n",
    "                A[i, j] += X[k, j : j+w.shape[2]].T @ W[i, j]\n",
    "            # バイアスの計算\n",
    "            A[i, j] += b[i]\n",
    "\n",
    "    A = A.astype(int)\n",
    "    \n",
    "    return A"
   ]
  },
  {
   "cell_type": "code",
   "execution_count": 167,
   "id": "3ce869ad-718f-486c-a982-70809baa0d23",
   "metadata": {},
   "outputs": [],
   "source": [
    "x = np.array([[1, 2, 3, 4], [2, 3, 4, 5]]) # shape(2, 4)で、（入力チャンネル数、特徴量数）である。\n",
    "w = np.ones((3, 2, 3)) # 例の簡略化のため全て1とする。(出力チャンネル数、入力チャンネル数、フィルタサイズ)である。\n",
    "b = np.array([1, 2, 3]) # （出力チャンネル数）"
   ]
  },
  {
   "cell_type": "code",
   "execution_count": 169,
   "id": "6b905641-53b2-4b4a-a026-5071873cad4a",
   "metadata": {},
   "outputs": [
    {
     "data": {
      "text/plain": [
       "array([[16, 22],\n",
       "       [17, 23],\n",
       "       [18, 24]])"
      ]
     },
     "execution_count": 81,
     "metadata": {},
     "output_type": "execute_result"
    }
   ],
   "source": [
    "forward(x, w, b)"
   ]
  },
  {
   "cell_type": "code",
   "execution_count": 189,
   "id": "24e5fab4-1a29-49b0-bd90-652b8457f011",
   "metadata": {},
   "outputs": [
    {
     "data": {
      "text/plain": [
       "array([[0, 0, 1, 2, 3, 4],\n",
       "       [0, 0, 2, 3, 4, 5]])"
      ]
     },
     "execution_count": 89,
     "metadata": {},
     "output_type": "execute_result"
    }
   ],
   "source": [
    "# 0埋め実施\n",
    "x = np.pad(x, ((0,0), ((w.shape[2]-1), 0)))\n",
    "x"
   ]
  },
  {
   "cell_type": "code",
   "execution_count": 201,
   "id": "30640366-7226-4739-8c7a-929b3fd79b31",
   "metadata": {},
   "outputs": [
    {
     "data": {
      "text/plain": [
       "array([[[0., 0., 0., 0., 0., 0.],\n",
       "        [0., 0., 0., 0., 0., 0.],\n",
       "        [0., 0., 0., 0., 0., 0.]],\n",
       "\n",
       "       [[0., 0., 0., 0., 0., 0.],\n",
       "        [0., 0., 0., 0., 0., 0.],\n",
       "        [0., 0., 0., 0., 0., 0.]]])"
      ]
     },
     "execution_count": 94,
     "metadata": {},
     "output_type": "execute_result"
    }
   ],
   "source": [
    "X1 = np.zeros((2, w.shape[2], 4+(w.shape[2]-1)))\n",
    "X1"
   ]
  },
  {
   "cell_type": "code",
   "execution_count": 191,
   "id": "20db457c-79cb-4a14-be08-5663722b3907",
   "metadata": {},
   "outputs": [
    {
     "data": {
      "text/plain": [
       "array([[0., 0.],\n",
       "       [0., 0.],\n",
       "       [0., 0.]])"
      ]
     },
     "execution_count": 90,
     "metadata": {},
     "output_type": "execute_result"
    }
   ],
   "source": [
    "A = np.zeros((3, 2))\n",
    "A"
   ]
  },
  {
   "cell_type": "code",
   "execution_count": 203,
   "id": "a1985c7e-3786-43eb-898d-b275e3770018",
   "metadata": {},
   "outputs": [],
   "source": [
    "# 重みの長さでループ\n",
    "for i in range(w.shape[2]):\n",
    "    # ずらしながら上書き\n",
    "    X1[:, i] = np.roll(x, -i, axis=-1)"
   ]
  },
  {
   "cell_type": "code",
   "execution_count": 205,
   "id": "0c4bd205-c519-49f8-b113-b2093042b14b",
   "metadata": {},
   "outputs": [
    {
     "data": {
      "text/plain": [
       "array([[[0., 0., 1., 2., 3., 4.],\n",
       "        [0., 1., 2., 3., 4., 0.],\n",
       "        [1., 2., 3., 4., 0., 0.]],\n",
       "\n",
       "       [[0., 0., 2., 3., 4., 5.],\n",
       "        [0., 2., 3., 4., 5., 0.],\n",
       "        [2., 3., 4., 5., 0., 0.]]])"
      ]
     },
     "execution_count": 96,
     "metadata": {},
     "output_type": "execute_result"
    }
   ],
   "source": [
    "X1"
   ]
  },
  {
   "cell_type": "code",
   "execution_count": 215,
   "id": "70a6692c-a7d0-4e3b-97c1-8768a33ef586",
   "metadata": {},
   "outputs": [
    {
     "data": {
      "text/plain": [
       "(2, 3, 6)"
      ]
     },
     "execution_count": 100,
     "metadata": {},
     "output_type": "execute_result"
    }
   ],
   "source": [
    "X1.shape"
   ]
  },
  {
   "cell_type": "code",
   "execution_count": 223,
   "id": "4b830a43-7c0f-49d5-ab87-1d2188a5b093",
   "metadata": {},
   "outputs": [
    {
     "data": {
      "text/plain": [
       "array([[[0., 0., 1., 2., 3., 4.],\n",
       "        [0., 1., 2., 3., 4., 0.],\n",
       "        [1., 2., 3., 4., 0., 0.]],\n",
       "\n",
       "       [[0., 0., 2., 3., 4., 5.],\n",
       "        [0., 2., 3., 4., 5., 0.],\n",
       "        [2., 3., 4., 5., 0., 0.]]])"
      ]
     },
     "execution_count": 103,
     "metadata": {},
     "output_type": "execute_result"
    }
   ],
   "source": [
    "X1"
   ]
  },
  {
   "cell_type": "code",
   "execution_count": 229,
   "id": "f57ff98b-121c-4b79-8c16-8cf0b2e3ae77",
   "metadata": {},
   "outputs": [
    {
     "data": {
      "text/plain": [
       "array([[[1., 2.],\n",
       "        [2., 3.],\n",
       "        [3., 4.]],\n",
       "\n",
       "       [[2., 3.],\n",
       "        [3., 4.],\n",
       "        [4., 5.]]])"
      ]
     },
     "execution_count": 106,
     "metadata": {},
     "output_type": "execute_result"
    }
   ],
   "source": [
    "X1[:, :, w.shape[0]-1:4]"
   ]
  },
  {
   "cell_type": "code",
   "execution_count": 211,
   "id": "edc2b4d5-f2c8-4968-8172-a7432ec4a57f",
   "metadata": {},
   "outputs": [
    {
     "data": {
      "text/plain": [
       "(3, 2, 3, 1)"
      ]
     },
     "execution_count": 98,
     "metadata": {},
     "output_type": "execute_result"
    }
   ],
   "source": [
    "w[:, :, :, np.newaxis].shape"
   ]
  },
  {
   "cell_type": "code",
   "execution_count": 227,
   "id": "5563a652-7975-42e7-854e-9d7179fc86e3",
   "metadata": {},
   "outputs": [
    {
     "data": {
      "text/plain": [
       "array([[[[1.],\n",
       "         [1.],\n",
       "         [1.]],\n",
       "\n",
       "        [[1.],\n",
       "         [1.],\n",
       "         [1.]]],\n",
       "\n",
       "\n",
       "       [[[1.],\n",
       "         [1.],\n",
       "         [1.]],\n",
       "\n",
       "        [[1.],\n",
       "         [1.],\n",
       "         [1.]]],\n",
       "\n",
       "\n",
       "       [[[1.],\n",
       "         [1.],\n",
       "         [1.]],\n",
       "\n",
       "        [[1.],\n",
       "         [1.],\n",
       "         [1.]]]])"
      ]
     },
     "execution_count": 105,
     "metadata": {},
     "output_type": "execute_result"
    }
   ],
   "source": [
    "w[:, :, :, np.newaxis]"
   ]
  },
  {
   "cell_type": "code",
   "execution_count": 251,
   "id": "d6e6484e-f8bf-45c5-96e5-cb0a47f34f60",
   "metadata": {},
   "outputs": [
    {
     "data": {
      "text/plain": [
       "array([[[[0., 1., 2., 3.],\n",
       "         [1., 2., 3., 4.],\n",
       "         [2., 3., 4., 0.]],\n",
       "\n",
       "        [[0., 2., 3., 4.],\n",
       "         [2., 3., 4., 5.],\n",
       "         [3., 4., 5., 0.]]],\n",
       "\n",
       "\n",
       "       [[[0., 1., 2., 3.],\n",
       "         [1., 2., 3., 4.],\n",
       "         [2., 3., 4., 0.]],\n",
       "\n",
       "        [[0., 2., 3., 4.],\n",
       "         [2., 3., 4., 5.],\n",
       "         [3., 4., 5., 0.]]],\n",
       "\n",
       "\n",
       "       [[[0., 1., 2., 3.],\n",
       "         [1., 2., 3., 4.],\n",
       "         [2., 3., 4., 0.]],\n",
       "\n",
       "        [[0., 2., 3., 4.],\n",
       "         [2., 3., 4., 5.],\n",
       "         [3., 4., 5., 0.]]]])"
      ]
     },
     "execution_count": 117,
     "metadata": {},
     "output_type": "execute_result"
    }
   ],
   "source": [
    "(X1[:, :, w.shape[0]-2:5]*w[:, :, :, np.newaxis])"
   ]
  },
  {
   "cell_type": "code",
   "execution_count": 247,
   "id": "29182eee-4b7d-443a-873f-56b4ab05e324",
   "metadata": {},
   "outputs": [
    {
     "data": {
      "text/plain": [
       "array([[[5., 7.],\n",
       "        [7., 9.],\n",
       "        [9., 0.]],\n",
       "\n",
       "       [[5., 7.],\n",
       "        [7., 9.],\n",
       "        [9., 0.]],\n",
       "\n",
       "       [[5., 7.],\n",
       "        [7., 9.],\n",
       "        [9., 0.]]])"
      ]
     },
     "execution_count": 115,
     "metadata": {},
     "output_type": "execute_result"
    }
   ],
   "source": [
    "np.sum(X1[:, :, w.shape[0]:5]*w[:, :, :, np.newaxis], axis=(1))"
   ]
  },
  {
   "cell_type": "code",
   "execution_count": 239,
   "id": "7b030652-7c00-4a09-b44f-23a4d22df70f",
   "metadata": {},
   "outputs": [
    {
     "data": {
      "text/plain": [
       "array([[[ 6.,  9.],\n",
       "        [ 9., 12.]],\n",
       "\n",
       "       [[ 6.,  9.],\n",
       "        [ 9., 12.]],\n",
       "\n",
       "       [[ 6.,  9.],\n",
       "        [ 9., 12.]]])"
      ]
     },
     "execution_count": 111,
     "metadata": {},
     "output_type": "execute_result"
    }
   ],
   "source": [
    "np.sum(X1[:, :, w.shape[0]-1:4]*w[:, :, :, np.newaxis], axis=(2))"
   ]
  },
  {
   "cell_type": "markdown",
   "id": "d8be0a82-7e47-4ec0-a4bc-fc345b9b6021",
   "metadata": {},
   "source": [
    "# backword\n",
    "![Imgur](https://i.imgur.com/EtJ2ZdWl.jpg)"
   ]
  },
  {
   "cell_type": "code",
   "execution_count": 75,
   "id": "1ad23d67-3993-41bd-9593-6589f655d534",
   "metadata": {},
   "outputs": [],
   "source": [
    "# 初期化\n",
    "dW = np.zeros_like(w).astype(int)\n",
    "dB = np.zeros_like(b).astype(int)\n",
    "X = np.array([[1, 2, 3, 4], [2, 3, 4, 5]]) \n",
    "dA = np.array([[16, 22], [17, 23], [18, 24]])\n",
    "\n",
    "# 誤差の計算\n",
    "for i in range(dW.shape[0]):\n",
    "    for j in range(dW.shape[1]):\n",
    "        for l in range(dA.shape[1]):\n",
    "            dW[i, j] += dA[i, l] * X[j, l : l+dW.shape[2]]\n",
    "            if j == 0:\n",
    "                dB[i] += dA[i, l]"
   ]
  },
  {
   "cell_type": "code",
   "execution_count": 77,
   "id": "b47d64cd-acf1-4c43-a33c-45859dd20337",
   "metadata": {},
   "outputs": [
    {
     "data": {
      "text/plain": [
       "array([[[ 60,  98, 136],\n",
       "        [ 98, 136, 174]],\n",
       "\n",
       "       [[ 63, 103, 143],\n",
       "        [103, 143, 183]],\n",
       "\n",
       "       [[ 66, 108, 150],\n",
       "        [108, 150, 192]]])"
      ]
     },
     "execution_count": 45,
     "metadata": {},
     "output_type": "execute_result"
    }
   ],
   "source": [
    "dW"
   ]
  },
  {
   "cell_type": "code",
   "execution_count": 79,
   "id": "4f60a388-a4c4-45a2-835e-b601f11e0548",
   "metadata": {},
   "outputs": [
    {
     "data": {
      "text/plain": [
       "array([38, 40, 42])"
      ]
     },
     "execution_count": 46,
     "metadata": {},
     "output_type": "execute_result"
    }
   ],
   "source": [
    "dB"
   ]
  },
  {
   "cell_type": "markdown",
   "id": "29bb5f2f-4d23-4c84-adb1-27319ca10486",
   "metadata": {},
   "source": [
    "![Imgur](https://i.imgur.com/gtU9vzZl.jpg)!"
   ]
  },
  {
   "cell_type": "code",
   "execution_count": 20,
   "id": "2d48f042-edcc-4e33-81d5-f4a8ba3790c7",
   "metadata": {},
   "outputs": [],
   "source": [
    "def test():\n",
    "    # 初期化\n",
    "    dX = np.zeros_like(X)\n",
    "\n",
    "    # 誤差の計算\n",
    "    for i in range(dX.shape[0]):\n",
    "        for j in range(dX.shape[1]):\n",
    "            for k in range(dA.shape[0]):\n",
    "                for s in range(w.shape[2]):\n",
    "                    # 入力の枠外の微分は0とする\n",
    "                    if (j-s < 0) or (j-s > dA.shape[1]-1):\n",
    "                        pass\n",
    "                    # 枠内の微分値は足し合わせる\n",
    "                    else:\n",
    "                        dX[i, j] += dA[k, j-s] * w[k, i, s]\n",
    "                        \n",
    "    return dX"
   ]
  },
  {
   "cell_type": "code",
   "execution_count": 21,
   "id": "72bd0da0-9867-486d-8e51-c5e84253c103",
   "metadata": {},
   "outputs": [
    {
     "data": {
      "text/plain": [
       "array([[ 51, 120, 120,  69],\n",
       "       [ 51, 120, 120,  69]])"
      ]
     },
     "execution_count": 21,
     "metadata": {},
     "output_type": "execute_result"
    }
   ],
   "source": [
    "test()"
   ]
  },
  {
   "cell_type": "code",
   "execution_count": 22,
   "id": "1439b332-86eb-4ce4-ade4-9e91b66eef02",
   "metadata": {},
   "outputs": [],
   "source": [
    "class Conv1d:\n",
    "    \n",
    "    def __init__(self, b_size, initializer, optimizer, n_in_channels=1, n_out_channels=1, pa=0):\n",
    "        self.b_size = b_size\n",
    "        self.optimizer = optimizer\n",
    "        self.pa = pa\n",
    "        self.W = initializer.W(n_out_channels, n_in_channels, b_size)\n",
    "        self.B = initializer.B(n_out_channels)\n",
    "        self.n_in_channels = n_in_channels\n",
    "        self.n_out_channels = n_out_channels\n",
    "        self.n_out = None\n",
    "        \n",
    "    def forward(self, X):\n",
    "        \n",
    "        #Forward Propagation\n",
    "        self.n_in = X.shape[-1]\n",
    "        self.n_out = output_size_calculation(self.n_in, self.b_size, self.pa)\n",
    "        X = X.reshape(self.n_in_channels, self.n_in)\n",
    "        self.X = np.pad(X, ((0,0), ((self.b_size-1), 0)))\n",
    "        self.X1 = np.zeros((self.n_in_channels, self.b_size, self.n_in+(self.b_size-1)))\n",
    "        for i in range(self.b_size):\n",
    "            self.X1[:, i] = np.roll(self.X, -i, axis=-1)\n",
    "        A = np.sum(self.X1[:, :, self.b_size-1-self.pa:self.n_in+self.pa]*self.W[:, :, :, np.newaxis], axis=(1, 2)) + self.B.reshape(-1,1)\n",
    "        return A\n",
    "    \n",
    "    def backward(self, dA):\n",
    "        \n",
    "        #Back Propagation\n",
    "        self.dW = np.sum(np.dot(dA, self.X1[:, :, self.b_size-1-self.pa:self.n_in+self.pa, np.newaxis]), axis=-1)\n",
    "        self.dB = np.sum(dA, axis=1)\n",
    "        self.dA = np.pad(dA, ((0,0), (0, (self.b_size-1))))\n",
    "        self.dA1 = np.zeros((self.n_out_channels, self.b_size, self.dA.shape[-1]))\n",
    "        for i in range(self.b_size):\n",
    "            self.dA1[:, i] = np.roll(self.dA, i, axis=-1)\n",
    "        dX = np.sum(self.W@self.dA1, axis=0)\n",
    "        self.optimizer.update(self)\n",
    "        return dX"
   ]
  },
  {
   "cell_type": "code",
   "execution_count": 23,
   "id": "930f91a3-c477-48d6-8a5f-b06554a0030f",
   "metadata": {},
   "outputs": [],
   "source": [
    "def output_size_calculation(n_in, F, P=0, S=1):\n",
    "    n_out = int((n_in + 2*P - F) / S + 1)\n",
    "    return n_out"
   ]
  },
  {
   "cell_type": "code",
   "execution_count": 24,
   "id": "be140393-2c23-49ad-9310-a0bdf2f326fa",
   "metadata": {},
   "outputs": [
    {
     "ename": "TypeError",
     "evalue": "__init__() missing 2 required positional arguments: 'initializer' and 'optimizer'",
     "output_type": "error",
     "traceback": [
      "\u001b[0;31m---------------------------------------------------------------------------\u001b[0m\n\u001b[0;31mTypeError\u001b[0m                                 Traceback (most recent call last)",
      "File \u001b[0;34m/opt/anaconda3/lib/python3.8/site-packages/IPython/core/interactiveshell.py\u001b[0m, in \u001b[0;32mrun_code\u001b[0m:\nLine \u001b[0;34m3441\u001b[0m:  exec(code_obj, \u001b[36mself\u001b[39;49;00m.user_global_ns, \u001b[36mself\u001b[39;49;00m.user_ns)\n",
      "In  \u001b[0;34m[24]\u001b[0m:\nLine \u001b[0;34m1\u001b[0m:     test = Conv1d(b_size=\u001b[34m3\u001b[39;49;00m, n_in_channels=\u001b[34m2\u001b[39;49;00m, n_out_channels=\u001b[34m3\u001b[39;49;00m)\n",
      "\u001b[0;31mTypeError\u001b[0m: __init__() missing 2 required positional arguments: 'initializer' and 'optimizer'\n\u001b[0;31m---------------------------------------------------------------------------\u001b[0m"
     ]
    }
   ],
   "source": [
    "test = Conv1d(b_size=3, n_in_channels=2, n_out_channels=3)"
   ]
  },
  {
   "cell_type": "code",
   "execution_count": null,
   "id": "ab754cae-a52c-43eb-80f4-8a304716ff61",
   "metadata": {},
   "outputs": [],
   "source": [
    "testing = test.forward(np.array([[1, 2, 3, 4], [2, 3, 4, 5]]) )\n",
    "testing"
   ]
  },
  {
   "cell_type": "code",
   "execution_count": null,
   "id": "387cd1cd-b76f-4a14-b849-0678f65d054d",
   "metadata": {},
   "outputs": [],
   "source": [
    "test.backward(dA=np.array([[16, 22], [17, 23], [18, 24]]))"
   ]
  },
  {
   "cell_type": "code",
   "execution_count": null,
   "id": "f7bdaf6a-dd29-4940-9aef-be706b6646ec",
   "metadata": {},
   "outputs": [],
   "source": [
    "test.dW"
   ]
  },
  {
   "cell_type": "code",
   "execution_count": null,
   "id": "04b4ef80-8e7d-4200-a067-19ba6cc58f1b",
   "metadata": {},
   "outputs": [],
   "source": [
    "test.dB"
   ]
  },
  {
   "cell_type": "code",
   "execution_count": null,
   "id": "5de51003-af25-4163-b2e9-33101f3a6813",
   "metadata": {},
   "outputs": [],
   "source": []
  },
  {
   "cell_type": "code",
   "execution_count": null,
   "id": "abc84ac8-3653-4ee0-a366-4760fae623ee",
   "metadata": {},
   "outputs": [],
   "source": []
  }
 ],
 "metadata": {
  "kernelspec": {
   "display_name": "Python 3.8 (XPython)",
   "language": "python",
   "name": "xpython"
  },
  "language_info": {
   "file_extension": ".py",
   "mimetype": "text/x-python",
   "name": "python",
   "version": "3.8.10"
  }
 },
 "nbformat": 4,
 "nbformat_minor": 5
}
